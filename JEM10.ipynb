{
  "nbformat": 4,
  "nbformat_minor": 0,
  "metadata": {
    "colab": {
      "provenance": [],
      "authorship_tag": "ABX9TyO2G+RP1Eg+v/w3Fj2hLuEc",
      "include_colab_link": true
    },
    "kernelspec": {
      "name": "python3",
      "display_name": "Python 3"
    },
    "language_info": {
      "name": "python"
    }
  },
  "cells": [
    {
      "cell_type": "markdown",
      "metadata": {
        "id": "view-in-github",
        "colab_type": "text"
      },
      "source": [
        "<a href=\"https://colab.research.google.com/github/Joacoromero06/AI-engineering/blob/main/JEM10.ipynb\" target=\"_parent\"><img src=\"https://colab.research.google.com/assets/colab-badge.svg\" alt=\"Open In Colab\"/></a>"
      ]
    },
    {
      "cell_type": "markdown",
      "source": [
        "**THIS LYBRARY CREATE AN OBJECT EXPRESION, THAT WORKS LIKES AN STRING, THAT IS PARSED, AND GET THE MATH INFORMATION REPRESENTS THAT EXPRESION, ALSO IMPLEMENTS HUGE OF OPERATION WITH, BETWEEN AND OTHER DATA TYPES, THAT WORKS AS WE WAIT.BASICALLY WHIS LIBRARY IMPLEMENTS THE TDA MATHS EXPRESION AS PERFECT AS WE CAN**"
      ],
      "metadata": {
        "id": "CdYaj_IFQL74"
      }
    },
    {
      "cell_type": "markdown",
      "source": [
        "🧉 **SYMBOLIC ALGEBRA**"
      ],
      "metadata": {
        "id": "TwWvz6gXC_XT"
      }
    },
    {
      "cell_type": "code",
      "source": [
        "from sympy import expand,factor,simplify,symbols\n",
        "x,y = symbols('x y')\n",
        "expr= (x+y)**2\n",
        "print(\"Expression\",expr)\n",
        "expanded=expand(expr)\n",
        "print(\"Expanded: \",expanded)\n",
        "factored= factor(expanded)\n",
        "print(\"Factored: \",factored)\n",
        "fracc=expr/(x+y)\n",
        "print(\"fraction: \",fracc)\n",
        "simplified=simplify(fracc)\n",
        "print(\"Simplified fraction: \",simplified)"
      ],
      "metadata": {
        "id": "7b_bzdAUD1Xi",
        "colab": {
          "base_uri": "https://localhost:8080/"
        },
        "outputId": "2a8824b1-337f-422c-cfb0-f04262f48978"
      },
      "execution_count": 14,
      "outputs": [
        {
          "output_type": "stream",
          "name": "stdout",
          "text": [
            "(x + y)**2\n",
            "Expanded:  x**2 + 2*x*y + y**2\n",
            "Factored:  (x + y)**2\n",
            "fraction:  x + y\n",
            "Simplified fraction:  x + y\n"
          ]
        }
      ]
    },
    {
      "cell_type": "markdown",
      "source": [
        "🎨 **DIFERENCIAL AND INTEGRAL CALCULUS**"
      ],
      "metadata": {
        "id": "qHsdGEULLp16"
      }
    },
    {
      "cell_type": "code",
      "source": [
        "from sympy import diff, integrate, sin,cos,exp\n",
        "x=symbols('x')\n",
        "f=x**2;print(\"function: \", f)\n",
        "dfdx=diff(f,x);print(\"derivate:\",dfdx)\n",
        "d2fd2x=diff(f,x,2);print(\"secondDerivate:\",d2fd2x)\n",
        "\n",
        "g=sin(x)*cos(x);print(\"g`s derivation:\",diff(g))\n",
        "print(\"indefinied integral: \",integrate(exp(x),x))\n",
        "defIntegral=integrate(x**2,(x,1,2));print(\"xpow2`s from 1 to 2 definied integral:\",defIntegral)"
      ],
      "metadata": {
        "colab": {
          "base_uri": "https://localhost:8080/"
        },
        "id": "x6j4OW6cL5DQ",
        "outputId": "473ddeee-51bf-4c2a-8794-262f0aeb8bbb"
      },
      "execution_count": 32,
      "outputs": [
        {
          "output_type": "stream",
          "name": "stdout",
          "text": [
            "function:  x**2\n",
            "derivate: 2*x\n",
            "secondDerivate: 2\n",
            "g`s derivation: -sin(x)**2 + cos(x)**2\n",
            "indefinied integral:  exp(x)\n",
            "xpow2`s from 1 to 2 definied integral: 7/3\n"
          ]
        }
      ]
    }
  ]
}