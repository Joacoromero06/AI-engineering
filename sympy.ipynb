{
  "nbformat": 4,
  "nbformat_minor": 0,
  "metadata": {
    "colab": {
      "provenance": [],
      "authorship_tag": "ABX9TyNzIn5KfLwCuJg4IddO8/Kt",
      "include_colab_link": true
    },
    "kernelspec": {
      "name": "python3",
      "display_name": "Python 3"
    },
    "language_info": {
      "name": "python"
    }
  },
  "cells": [
    {
      "cell_type": "markdown",
      "metadata": {
        "id": "view-in-github",
        "colab_type": "text"
      },
      "source": [
        "<a href=\"https://colab.research.google.com/github/Joacoromero06/AI-engineering/blob/main/JEM10.ipynb\" target=\"_parent\"><img src=\"https://colab.research.google.com/assets/colab-badge.svg\" alt=\"Open In Colab\"/></a>"
      ]
    },
    {
      "cell_type": "markdown",
      "source": [
        "**THIS LYBRARY CREATE AN OBJECT EXPRESION, THAT WORKS LIKES AN STRING, THAT IS PARSED, AND GET THE MATH INFORMATION REPRESENTS THAT EXPRESION, ALSO IMPLEMENTS HUGE OF OPERATION WITH, BETWEEN AND OTHER DATA TYPES, THAT WORKS AS WE WAIT.BASICALLY WHIS LIBRARY IMPLEMENTS THE TDA MATHS EXPRESION AS PERFECT AS WE CAN**"
      ],
      "metadata": {
        "id": "CdYaj_IFQL74"
      }
    },
    {
      "cell_type": "markdown",
      "source": [
        "🧉 **SYMBOLIC ALGEBRA**"
      ],
      "metadata": {
        "id": "TwWvz6gXC_XT"
      }
    },
    {
      "cell_type": "code",
      "source": [
        "from sympy import expand,factor,simplify,symbols\n",
        "x,y = symbols('x y')\n",
        "expr= (x+y)**2\n",
        "print(\"Expression\",expr)\n",
        "expanded=expand(expr)\n",
        "print(\"Expanded: \",expanded)\n",
        "factored= factor(expanded)\n",
        "print(\"Factored: \",factored)\n",
        "fracc=expr/(x+y)\n",
        "print(\"fraction: \",fracc)\n",
        "simplified=simplify(fracc)\n",
        "print(\"Simplified fraction: \",simplified)"
      ],
      "metadata": {
        "id": "7b_bzdAUD1Xi",
        "colab": {
          "base_uri": "https://localhost:8080/"
        },
        "outputId": "2a8824b1-337f-422c-cfb0-f04262f48978"
      },
      "execution_count": null,
      "outputs": [
        {
          "output_type": "stream",
          "name": "stdout",
          "text": [
            "(x + y)**2\n",
            "Expanded:  x**2 + 2*x*y + y**2\n",
            "Factored:  (x + y)**2\n",
            "fraction:  x + y\n",
            "Simplified fraction:  x + y\n"
          ]
        }
      ]
    },
    {
      "cell_type": "markdown",
      "source": [
        "🎨 **DIFERENCIAL AND INTEGRAL CALCULUS**"
      ],
      "metadata": {
        "id": "qHsdGEULLp16"
      }
    },
    {
      "cell_type": "code",
      "source": [
        "from sympy import diff, integrate, sin,cos,exp\n",
        "x=symbols('x')\n",
        "f=x**2;print(\"function: \", f)\n",
        "dfdx=diff(f,x);print(\"derivate:\",dfdx)\n",
        "d2fd2x=diff(f,x,2);print(\"secondDerivate:\",d2fd2x)\n",
        "\n",
        "g=sin(x)*cos(x);print(\"g`s derivation:\",diff(g))\n",
        "print(\"indefinied integral: \",integrate(exp(x),x))\n",
        "defIntegral=integrate(x**2,(x,1,2));print(\"xpow2`s from 1 to 2 definied integral:\",defIntegral)"
      ],
      "metadata": {
        "colab": {
          "base_uri": "https://localhost:8080/"
        },
        "id": "x6j4OW6cL5DQ",
        "outputId": "473ddeee-51bf-4c2a-8794-262f0aeb8bbb"
      },
      "execution_count": null,
      "outputs": [
        {
          "output_type": "stream",
          "name": "stdout",
          "text": [
            "function:  x**2\n",
            "derivate: 2*x\n",
            "secondDerivate: 2\n",
            "g`s derivation: -sin(x)**2 + cos(x)**2\n",
            "indefinied integral:  exp(x)\n",
            "xpow2`s from 1 to 2 definied integral: 7/3\n"
          ]
        }
      ]
    },
    {
      "cell_type": "markdown",
      "source": [
        "🍅 **EQUATIONS**"
      ],
      "metadata": {
        "id": "m-l83_b8FhmB"
      }
    },
    {
      "cell_type": "code",
      "source": [
        "from sympy import Eq,solve,symbols\n",
        "\n",
        "#ONE VARIBLE EQUATION\n",
        "x=symbols('x')\n",
        "eq1=Eq(x**2+2*x+1, 0);print(\"equation: \",eq1)\n",
        "solution=solve(eq1);print(\"equation`s solution: \",solution)\n",
        "\n",
        "#THREE VARIABLE EQUATION\n",
        "w,v,u=symbols('w v u')\n",
        "eq1=Eq(w**2+10*v*u+v**2,5*u*v+v**2 );print(\"equation: \",eq1)\n",
        "solution=solve(eq1);print(\"equation`s solution: \",solution)\n",
        "\n",
        "#SYSTEM OF TWO LINEAR EQUATION\n",
        "y=symbols('y')\n",
        "eq1=Eq(x+y,0)\n",
        "eq2=Eq(2*x+2*y,0)\n",
        "sysSolution=solve(eq1,eq2,x,y);print(\"system solution: \", sysSolution)#the method solve, solve almost all equation is awesome\n",
        "\n"
      ],
      "metadata": {
        "colab": {
          "base_uri": "https://localhost:8080/"
        },
        "id": "VQuiANwMFqiJ",
        "outputId": "40e57d65-98e3-4852-d616-c355f31de379"
      },
      "execution_count": 16,
      "outputs": [
        {
          "output_type": "stream",
          "name": "stdout",
          "text": [
            "equation:  Eq(x**2 + 2*x + 1, 0)\n",
            "equation`s solution:  [-1]\n",
            "equation:  Eq(10*u*v + v**2 + w**2, 5*u*v + v**2)\n",
            "equation`s solution:  [{u: -w**2/(5*v)}]\n",
            "system solution:  [(Eq(2*x + 2*y, 0), -y, y)]\n"
          ]
        }
      ]
    },
    {
      "cell_type": "markdown",
      "source": [
        "🐕 **LINEAR ALGEBRA**"
      ],
      "metadata": {
        "id": "Ej0WXKQDMM6Y"
      }
    },
    {
      "cell_type": "code",
      "source": [
        "from sympy import Matrix, symbols\n",
        "\n",
        "#ALL THE OPERATIONS\n",
        "a,b,c,d=symbols('a b c d')\n",
        "M=Matrix( [[a,b],[c,d]] );print(M);\n",
        "print(\"determinate: \",M.det())\n",
        "\n",
        "x,y,z,w=symbols('x y z w')\n",
        "N=Matrix( [[x,y],[z,w]] );print(N);\n",
        "A=N.add(M);print(\"matrix 1 plus matrix 2: \",A)\n",
        "B=N*M;print(\"product between 1 and 2: \",B)"
      ],
      "metadata": {
        "colab": {
          "base_uri": "https://localhost:8080/"
        },
        "id": "pQUNzidRMd1T",
        "outputId": "17829d1c-3da6-4efb-e4ea-04fb800b9c83"
      },
      "execution_count": 29,
      "outputs": [
        {
          "output_type": "stream",
          "name": "stdout",
          "text": [
            "Matrix([[a, b], [c, d]])\n",
            "determinate:  a*d - b*c\n",
            "Matrix([[x, y], [z, w]])\n",
            "matrix 1 plus matrix 2:  Matrix([[a + x, b + y], [c + z, d + w]])\n",
            "product between 1 and 2:  Matrix([[a*x + c*y, b*x + d*y], [a*z + c*w, b*z + d*w]])\n"
          ]
        }
      ]
    }
  ]
}
